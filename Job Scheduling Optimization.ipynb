{
 "cells": [
  {
   "cell_type": "code",
   "execution_count": 1,
   "id": "525a39d0",
   "metadata": {},
   "outputs": [],
   "source": [
    "import random\n",
    "import math\n",
    "import numpy as np\n",
    "import pandas as pd\n",
    "import matplotlib.pyplot as plt"
   ]
  },
  {
   "cell_type": "code",
   "execution_count": 2,
   "id": "d9f5a2ec",
   "metadata": {},
   "outputs": [],
   "source": [
    "np.random.seed(42)\n",
    "num_Jobs = 10\n",
    "num_machines = 3\n",
    "processing_times = pd.DataFrame(np.random.randint(1, 20, size = (num_Jobs, num_machines)),\n",
    "                                        columns = [f'Machine{i}' for i in range(num_machines)],\n",
    "                                        index = [f'{i}' for i in range(num_Jobs)])\n",
    "availability_data = {\n",
    "    'Machine': [f'{i}' for i in range(num_machines)],\n",
    "    'Availability': [80, 85, 75]  \n",
    "}\n",
    "machine_availability = pd.DataFrame(availability_data).set_index('Machine')"
   ]
  },
  {
   "cell_type": "code",
   "execution_count": 3,
   "id": "1c440549",
   "metadata": {},
   "outputs": [
    {
     "data": {
      "text/html": [
       "<div>\n",
       "<style scoped>\n",
       "    .dataframe tbody tr th:only-of-type {\n",
       "        vertical-align: middle;\n",
       "    }\n",
       "\n",
       "    .dataframe tbody tr th {\n",
       "        vertical-align: top;\n",
       "    }\n",
       "\n",
       "    .dataframe thead th {\n",
       "        text-align: right;\n",
       "    }\n",
       "</style>\n",
       "<table border=\"1\" class=\"dataframe\">\n",
       "  <thead>\n",
       "    <tr style=\"text-align: right;\">\n",
       "      <th></th>\n",
       "      <th>Machine0</th>\n",
       "      <th>Machine1</th>\n",
       "      <th>Machine2</th>\n",
       "    </tr>\n",
       "  </thead>\n",
       "  <tbody>\n",
       "    <tr>\n",
       "      <th>0</th>\n",
       "      <td>7</td>\n",
       "      <td>15</td>\n",
       "      <td>11</td>\n",
       "    </tr>\n",
       "    <tr>\n",
       "      <th>1</th>\n",
       "      <td>8</td>\n",
       "      <td>7</td>\n",
       "      <td>19</td>\n",
       "    </tr>\n",
       "    <tr>\n",
       "      <th>2</th>\n",
       "      <td>11</td>\n",
       "      <td>11</td>\n",
       "      <td>4</td>\n",
       "    </tr>\n",
       "    <tr>\n",
       "      <th>3</th>\n",
       "      <td>8</td>\n",
       "      <td>3</td>\n",
       "      <td>2</td>\n",
       "    </tr>\n",
       "    <tr>\n",
       "      <th>4</th>\n",
       "      <td>12</td>\n",
       "      <td>6</td>\n",
       "      <td>2</td>\n",
       "    </tr>\n",
       "    <tr>\n",
       "      <th>5</th>\n",
       "      <td>1</td>\n",
       "      <td>12</td>\n",
       "      <td>12</td>\n",
       "    </tr>\n",
       "    <tr>\n",
       "      <th>6</th>\n",
       "      <td>17</td>\n",
       "      <td>10</td>\n",
       "      <td>16</td>\n",
       "    </tr>\n",
       "    <tr>\n",
       "      <th>7</th>\n",
       "      <td>15</td>\n",
       "      <td>15</td>\n",
       "      <td>19</td>\n",
       "    </tr>\n",
       "    <tr>\n",
       "      <th>8</th>\n",
       "      <td>12</td>\n",
       "      <td>3</td>\n",
       "      <td>5</td>\n",
       "    </tr>\n",
       "    <tr>\n",
       "      <th>9</th>\n",
       "      <td>19</td>\n",
       "      <td>7</td>\n",
       "      <td>9</td>\n",
       "    </tr>\n",
       "  </tbody>\n",
       "</table>\n",
       "</div>"
      ],
      "text/plain": [
       "   Machine0  Machine1  Machine2\n",
       "0         7        15        11\n",
       "1         8         7        19\n",
       "2        11        11         4\n",
       "3         8         3         2\n",
       "4        12         6         2\n",
       "5         1        12        12\n",
       "6        17        10        16\n",
       "7        15        15        19\n",
       "8        12         3         5\n",
       "9        19         7         9"
      ]
     },
     "execution_count": 3,
     "metadata": {},
     "output_type": "execute_result"
    }
   ],
   "source": [
    "processing_times #Dataset"
   ]
  },
  {
   "cell_type": "code",
   "execution_count": 4,
   "id": "bb033fc4",
   "metadata": {},
   "outputs": [
    {
     "data": {
      "text/html": [
       "<div>\n",
       "<style scoped>\n",
       "    .dataframe tbody tr th:only-of-type {\n",
       "        vertical-align: middle;\n",
       "    }\n",
       "\n",
       "    .dataframe tbody tr th {\n",
       "        vertical-align: top;\n",
       "    }\n",
       "\n",
       "    .dataframe thead th {\n",
       "        text-align: right;\n",
       "    }\n",
       "</style>\n",
       "<table border=\"1\" class=\"dataframe\">\n",
       "  <thead>\n",
       "    <tr style=\"text-align: right;\">\n",
       "      <th></th>\n",
       "      <th>Availability</th>\n",
       "    </tr>\n",
       "    <tr>\n",
       "      <th>Machine</th>\n",
       "      <th></th>\n",
       "    </tr>\n",
       "  </thead>\n",
       "  <tbody>\n",
       "    <tr>\n",
       "      <th>0</th>\n",
       "      <td>80</td>\n",
       "    </tr>\n",
       "    <tr>\n",
       "      <th>1</th>\n",
       "      <td>85</td>\n",
       "    </tr>\n",
       "    <tr>\n",
       "      <th>2</th>\n",
       "      <td>75</td>\n",
       "    </tr>\n",
       "  </tbody>\n",
       "</table>\n",
       "</div>"
      ],
      "text/plain": [
       "         Availability\n",
       "Machine              \n",
       "0                  80\n",
       "1                  85\n",
       "2                  75"
      ]
     },
     "execution_count": 4,
     "metadata": {},
     "output_type": "execute_result"
    }
   ],
   "source": [
    "machine_availability\n"
   ]
  },
  {
   "cell_type": "code",
   "execution_count": 5,
   "id": "7bf86db8",
   "metadata": {},
   "outputs": [],
   "source": [
    "def calculate_completion_time(solution, processing_times, machine_availability):\n",
    "    num_jobs, num_machines = processing_times.shape\n",
    "    machine_times = np.zeros(num_machines)\n",
    "\n",
    "    for job, machine in enumerate(solution):\n",
    "        # Corrected indexing using .iloc\n",
    "        machine_times[machine] += processing_times.iloc[job, machine]\n",
    "\n",
    "        # Check machine availability constraint for each job\n",
    "        if machine_times[machine] > machine_availability.iloc[machine, 0]:\n",
    "            return float('inf')\n",
    "\n",
    "    return max(machine_times)\n"
   ]
  },
  {
   "cell_type": "code",
   "execution_count": 6,
   "id": "20666c63",
   "metadata": {},
   "outputs": [],
   "source": [
    "def generate_neighbor(solution, machine_availability, processing_times):\n",
    "    neighbor = solution.copy()\n",
    "    job_to_move = random.randint(0, len(solution) - 1)\n",
    "    new_machine = random.randint(0, max(solution))\n",
    "    \n",
    "    \n",
    "    while neighbor[job_to_move] == new_machine or \\\n",
    "            machine_availability.iloc[new_machine, 0] < processing_times.iloc[job_to_move, new_machine]:\n",
    "        new_machine = random.randint(0, max(solution))\n",
    "        \n",
    "    neighbor[job_to_move] = new_machine\n",
    "    return neighbor\n"
   ]
  },
  {
   "cell_type": "code",
   "execution_count": 7,
   "id": "f1f38898",
   "metadata": {},
   "outputs": [],
   "source": [
    "def stimulated_annealing(initial_solution, processing_times, temperature, cooling_rate):\n",
    "    iterations = []\n",
    "    current_energy_array = []\n",
    "    \n",
    "    current_solution = initial_solution\n",
    "    current_energy = calculate_completion_time(current_solution, processing_times, machine_availability)\n",
    "    iterations.append(0)\n",
    "    current_energy_array.append(current_energy)\n",
    "    \n",
    "    \n",
    "    iteration = 1\n",
    "    while temperature > 1:\n",
    "        neighbor_solution = generate_neighbor(current_solution, machine_availability, processing_times)\n",
    "        neighbor_energy = calculate_completion_time(neighbor_solution, processing_times,  machine_availability)\n",
    "        if (neighbor_energy < current_energy) or (random.uniform(0, 1) < math.exp((current_energy - neighbor_energy) / temperature)):\n",
    "            current_solution = neighbor_solution\n",
    "            current_energy = neighbor_energy\n",
    "            iterations.append(iteration)\n",
    "            current_energy_array.append(current_energy)\n",
    "            \n",
    "        \n",
    "        temperature = temperature * cooling_rate\n",
    "        iteration += 1\n",
    "        \n",
    "    return current_solution, current_energy, current_energy_array, iterations"
   ]
  },
  {
   "cell_type": "code",
   "execution_count": 8,
   "id": "16c94b4b",
   "metadata": {},
   "outputs": [
    {
     "data": {
      "text/plain": [
       "array([2, 1, 0, 1, 1, 1, 0, 1, 0, 1])"
      ]
     },
     "execution_count": 8,
     "metadata": {},
     "output_type": "execute_result"
    }
   ],
   "source": [
    "initial_solution = np.random.randint(0, num_machines, size=num_Jobs)\n",
    "initial_solution\n"
   ]
  },
  {
   "cell_type": "code",
   "execution_count": 9,
   "id": "143d843f",
   "metadata": {},
   "outputs": [
    {
     "data": {
      "text/plain": [
       "50.0"
      ]
     },
     "execution_count": 9,
     "metadata": {},
     "output_type": "execute_result"
    }
   ],
   "source": [
    "calculate_completion_time(initial_solution, processing_times, machine_availability)"
   ]
  },
  {
   "cell_type": "code",
   "execution_count": 10,
   "id": "4871bda3",
   "metadata": {},
   "outputs": [],
   "source": [
    "initial_temperature = 1000.0\n",
    "cooling_rate = 0.75"
   ]
  },
  {
   "cell_type": "code",
   "execution_count": 11,
   "id": "daf5657e",
   "metadata": {
    "scrolled": false
   },
   "outputs": [
    {
     "name": "stdout",
     "output_type": "stream",
     "text": [
      "\n",
      "Best Solution:  [0 2 0 1 0 1 1 1 0 2]\n",
      "\n",
      "Best Completion Time:  42.0\n",
      "\n",
      "Initial Solution: [2 1 0 1 1 1 0 1 0 1]\n",
      "Initial Completion Time: 50.0\n"
     ]
    }
   ],
   "source": [
    "best_solution, best_completion_time, energy_array, iterations =  stimulated_annealing(initial_solution, processing_times, initial_temperature, cooling_rate)\n",
    "print(\"\\nBest Solution: \", best_solution)\n",
    "print(\"\\nBest Completion Time: \",best_completion_time)\n",
    "print(\"\\nInitial Solution:\", initial_solution)\n",
    "print(\"Initial Completion Time:\", calculate_completion_time(initial_solution, processing_times, machine_availability))\n"
   ]
  },
  {
   "cell_type": "code",
   "execution_count": 12,
   "id": "503d1f27",
   "metadata": {},
   "outputs": [],
   "source": [
    "def calculate_completion_time1(solution, processing_times, machine_availability):\n",
    "    num_jobs, num_machines = processing_times.shape\n",
    "    machine_times = np.zeros(num_machines)\n",
    "\n",
    "    for job, machine in enumerate(solution):\n",
    "        # Corrected indexing using .iloc\n",
    "        machine_times[machine] += processing_times.iloc[job, machine]\n",
    "\n",
    "        # Check machine availability constraint for each job\n",
    "        if machine_times[machine] > machine_availability.iloc[machine, 0]:\n",
    "            machine_times\n",
    "\n",
    "    return machine_times"
   ]
  },
  {
   "cell_type": "code",
   "execution_count": 13,
   "id": "6ae7340e",
   "metadata": {},
   "outputs": [
    {
     "data": {
      "text/plain": [
       "array([42., 40., 28.])"
      ]
     },
     "execution_count": 13,
     "metadata": {},
     "output_type": "execute_result"
    }
   ],
   "source": [
    "calculate_completion_time1(best_solution, processing_times, machine_availability)"
   ]
  },
  {
   "cell_type": "code",
   "execution_count": 14,
   "id": "90aceb5e",
   "metadata": {},
   "outputs": [
    {
     "data": {
      "image/png": "[encoded data removed]",
      "text/plain": [
       "<Figure size 640x480 with 1 Axes>"
      ]
     },
     "metadata": {},
     "output_type": "display_data"
    }
   ],
   "source": [
    "plt.plot(iterations, energy_array, marker='o', linestyle='-')\n",
    "plt.title('Iterations vs Maximum Completion Time')\n",
    "plt.xlabel('Iterations')\n",
    "plt.ylabel('Maximum Completion Time')\n",
    "plt.grid(True)\n",
    "plt.show()"
   ]
  },
  {
   "cell_type": "code",
   "execution_count": 15,
   "id": "ec97deb6",
   "metadata": {},
   "outputs": [
    {
     "data": {
      "text/plain": [
       "21"
      ]
     },
     "execution_count": 15,
     "metadata": {},
     "output_type": "execute_result"
    }
   ],
   "source": [
    "len(iterations)"
   ]
  },
  {
   "cell_type": "code",
   "execution_count": 16,
   "id": "ff4e4bcf",
   "metadata": {},
   "outputs": [
    {
     "data": {
      "text/plain": [
       "21"
      ]
     },
     "execution_count": 16,
     "metadata": {},
     "output_type": "execute_result"
    }
   ],
   "source": [
    "len(energy_array)"
   ]
  },
  {
   "cell_type": "code",
   "execution_count": null,
   "id": "e412a7c0",
   "metadata": {},
   "outputs": [],
   "source": []
  }
 ],
 "metadata": {
  "kernelspec": {
   "display_name": "Python 3 (ipykernel)",
   "language": "python",
   "name": "python3"
  },
  "language_info": {
   "codemirror_mode": {
    "name": "ipython",
    "version": 3
   },
   "file_extension": ".py",
   "mimetype": "text/x-python",
   "name": "python",
   "nbconvert_exporter": "python",
   "pygments_lexer": "ipython3",
   "version": "3.11.3"
  }
 },
 "nbformat": 4,
 "nbformat_minor": 5
}
